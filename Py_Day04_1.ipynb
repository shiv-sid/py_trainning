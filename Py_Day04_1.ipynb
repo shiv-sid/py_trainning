{
 "cells": [
  {
   "cell_type": "markdown",
   "metadata": {},
   "source": [
    "# String-Formatting"
   ]
  },
  {
   "cell_type": "code",
   "execution_count": 4,
   "metadata": {},
   "outputs": [],
   "source": [
    "emp_info={\"name\":\"Shirish\",\"age\":28,\"skills\":\"Py\",\"salary\":10000}"
   ]
  },
  {
   "cell_type": "code",
   "execution_count": 5,
   "metadata": {},
   "outputs": [
    {
     "name": "stdout",
     "output_type": "stream",
     "text": [
      "Shirish\n",
      "28\n",
      "Py\n"
     ]
    }
   ],
   "source": [
    "print(emp_info[\"name\"])\n",
    "print(emp_info[\"age\"])\n",
    "print(emp_info[\"skills\"])"
   ]
  },
  {
   "cell_type": "code",
   "execution_count": 6,
   "metadata": {},
   "outputs": [
    {
     "name": "stdout",
     "output_type": "stream",
     "text": [
      "The Emp is  Shirish and he knows Py\n"
     ]
    }
   ],
   "source": [
    "print(\"The Emp is \",emp_info[\"name\"],\"and he knows\",emp_info[\"skills\"])"
   ]
  },
  {
   "cell_type": "code",
   "execution_count": 34,
   "metadata": {},
   "outputs": [
    {
     "name": "stdout",
     "output_type": "stream",
     "text": [
      "The Emp is Shirishand he knowsPy\n"
     ]
    }
   ],
   "source": [
    "print(\"The Emp is \"+emp_info[\"name\"]+\"and he knows\"+emp_info[\"skills\"])"
   ]
  },
  {
   "cell_type": "code",
   "execution_count": 7,
   "metadata": {},
   "outputs": [
    {
     "name": "stdout",
     "output_type": "stream",
     "text": [
      "The Emp is Shirish and he knows Py \n"
     ]
    }
   ],
   "source": [
    "print(\"The Emp is {} and he knows {} \".format(emp_info[\"name\"],emp_info[\"skills\"]))"
   ]
  },
  {
   "cell_type": "code",
   "execution_count": 8,
   "metadata": {},
   "outputs": [
    {
     "name": "stdout",
     "output_type": "stream",
     "text": [
      "The Emp is Shirish and he knows Py \n"
     ]
    }
   ],
   "source": [
    "print(\"The Emp is {0} and he knows {1} \".format(emp_info[\"name\"],emp_info[\"skills\"]))"
   ]
  },
  {
   "cell_type": "code",
   "execution_count": 9,
   "metadata": {},
   "outputs": [
    {
     "name": "stdout",
     "output_type": "stream",
     "text": [
      "The Emp is Py and he knows Shirish \n"
     ]
    }
   ],
   "source": [
    "print(\"The Emp is {1} and he knows {0} \".format(emp_info[\"name\"],emp_info[\"skills\"]))"
   ]
  },
  {
   "cell_type": "code",
   "execution_count": 11,
   "metadata": {},
   "outputs": [
    {
     "name": "stdout",
     "output_type": "stream",
     "text": [
      "The Emp is Shirish, who is 28 yrs old and he knows Py \n"
     ]
    }
   ],
   "source": [
    "print(\"The Emp is {0}, who is {2} yrs old and he knows {1} \".format(emp_info[\"name\"],emp_info[\"skills\"],emp_info[\"age\"]))"
   ]
  },
  {
   "cell_type": "code",
   "execution_count": 20,
   "metadata": {},
   "outputs": [
    {
     "name": "stdout",
     "output_type": "stream",
     "text": [
      "The Emp is Shirish, who is 28 yrs old\n"
     ]
    }
   ],
   "source": [
    "print(\"The Emp is {0}, who is {1} yrs old\".format(emp_info[\"name\"],emp_info[\"age\"]))"
   ]
  },
  {
   "cell_type": "code",
   "execution_count": 36,
   "metadata": {},
   "outputs": [
    {
     "name": "stdout",
     "output_type": "stream",
     "text": [
      "The Emp is Shirish, who is 28.00 yrs old\n"
     ]
    }
   ],
   "source": [
    "print(\"The Emp is {0}, who is {1:.2f} yrs old\".format(emp_info[\"name\"],emp_info[\"age\"]))"
   ]
  },
  {
   "cell_type": "code",
   "execution_count": 19,
   "metadata": {},
   "outputs": [
    {
     "name": "stdout",
     "output_type": "stream",
     "text": [
      "The Emp is Shirish, who is 0028 yrs old\n"
     ]
    }
   ],
   "source": [
    "print(\"The Emp is {0}, who is {1:04} yrs old\".format(emp_info[\"name\"],emp_info[\"age\"]))"
   ]
  },
  {
   "cell_type": "code",
   "execution_count": 23,
   "metadata": {},
   "outputs": [
    {
     "name": "stdout",
     "output_type": "stream",
     "text": [
      "The Emp is Shirish, who is 0028 yrs old and he earns 10,000\n"
     ]
    }
   ],
   "source": [
    "print(\"The Emp is {0}, who is {1:04} yrs old and he earns {2:,}\".format(emp_info[\"name\"],emp_info[\"age\"],emp_info[\"salary\"]))"
   ]
  },
  {
   "cell_type": "code",
   "execution_count": 25,
   "metadata": {},
   "outputs": [
    {
     "name": "stdout",
     "output_type": "stream",
     "text": [
      "The Emp is Shirish, who is 0028 yrs old and he earns 10,000.00\n"
     ]
    }
   ],
   "source": [
    "print(\"The Emp is {0}, who is {1:04} yrs old and he earns {2:,.2f}\".format(emp_info[\"name\"],emp_info[\"age\"],emp_info[\"salary\"]))"
   ]
  },
  {
   "cell_type": "code",
   "execution_count": 27,
   "metadata": {},
   "outputs": [
    {
     "name": "stdout",
     "output_type": "stream",
     "text": [
      "The Emp is Shirish, who is 28 yrs old and he knows Py\n"
     ]
    }
   ],
   "source": [
    "print(f\"The Emp is {emp_info['name']}, who is {emp_info['age']} yrs old and he knows {emp_info['skills']}\")"
   ]
  },
  {
   "cell_type": "code",
   "execution_count": 30,
   "metadata": {},
   "outputs": [
    {
     "name": "stdout",
     "output_type": "stream",
     "text": [
      "The Emp is SHIRISH, who is 28 yrs old and he knows py\n"
     ]
    }
   ],
   "source": [
    "print(f\"The Emp is {emp_info['name'].upper()}, who is {emp_info['age']} yrs old and he knows {emp_info['skills'].lower()}\")"
   ]
  },
  {
   "cell_type": "code",
   "execution_count": null,
   "metadata": {},
   "outputs": [],
   "source": []
  }
 ],
 "metadata": {
  "kernelspec": {
   "display_name": "Python 3",
   "language": "python",
   "name": "python3"
  },
  "language_info": {
   "codemirror_mode": {
    "name": "ipython",
    "version": 3
   },
   "file_extension": ".py",
   "mimetype": "text/x-python",
   "name": "python",
   "nbconvert_exporter": "python",
   "pygments_lexer": "ipython3",
   "version": "3.8.3"
  }
 },
 "nbformat": 4,
 "nbformat_minor": 4
}
